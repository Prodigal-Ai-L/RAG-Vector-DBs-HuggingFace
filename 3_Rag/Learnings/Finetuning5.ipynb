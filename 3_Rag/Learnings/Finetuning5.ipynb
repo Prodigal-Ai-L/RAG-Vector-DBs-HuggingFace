{
 "cells": [
  {
   "cell_type": "code",
   "execution_count": 4,
   "metadata": {},
   "outputs": [
    {
     "name": "stdout",
     "output_type": "stream",
     "text": [
      "<map object at 0x000001FDE659EF80>\n",
      "[128608.92408000001, 119750.65635, 122375.32826999998, 124015.74822]\n"
     ]
    }
   ],
   "source": [
    "# Initialize the `kilometer` list \n",
    "kilometer = [39.2, 36.5, 37.3, 37.8]\n",
    "\n",
    "# Construct `feet` with `map()`\n",
    "feet = map(lambda x: float(3280.8399)*x, kilometer)\n",
    "print(feet)\n",
    "# Print `feet` as a list \n",
    "print(list(feet))\n"
   ]
  },
  {
   "cell_type": "code",
   "execution_count": 4,
   "metadata": {},
   "outputs": [
    {
     "name": "stdout",
     "output_type": "stream",
     "text": [
      "[1, 4, 9, 16, 25]\n"
     ]
    }
   ],
   "source": [
    "def square(x):\n",
    "    return x*x\n",
    "\n",
    "num = [1,2,3,4,5]\n",
    "squared = map(square,num)\n",
    "print(list(squared))"
   ]
  },
  {
   "cell_type": "code",
   "execution_count": 8,
   "metadata": {},
   "outputs": [
    {
     "name": "stdout",
     "output_type": "stream",
     "text": [
      "(3, 6, 9)\n"
     ]
    }
   ],
   "source": [
    "tu = (1,2,3,4,5,6,7,8,9)\n",
    "lenn = tuple(filter(lambda x:(x%3==0),tu))\n",
    "print(lenn)"
   ]
  },
  {
   "cell_type": "code",
   "execution_count": 17,
   "metadata": {},
   "outputs": [
    {
     "name": "stdout",
     "output_type": "stream",
     "text": [
      "      name  salary\n",
      "0   ankith      12\n",
      "1  dhanush      45\n",
      "2   ankith      34\n"
     ]
    }
   ],
   "source": [
    "dictionary = {\n",
    "    'name':['ankith','dhanush','ankith'],\n",
    "    'salary':[12,45,34]\n",
    "}\n",
    "import pandas as pd\n",
    "df= pd.DataFrame(dictionary)\n",
    "print(df)"
   ]
  },
  {
   "cell_type": "code",
   "execution_count": 18,
   "metadata": {},
   "outputs": [
    {
     "data": {
      "text/plain": [
       "name\n",
       "ankith     23.0\n",
       "dhanush    45.0\n",
       "Name: salary, dtype: float64"
      ]
     },
     "execution_count": 18,
     "metadata": {},
     "output_type": "execute_result"
    }
   ],
   "source": [
    "df.groupby(df['name'])['salary'].mean()"
   ]
  },
  {
   "cell_type": "code",
   "execution_count": null,
   "metadata": {},
   "outputs": [],
   "source": []
  },
  {
   "cell_type": "code",
   "execution_count": null,
   "metadata": {},
   "outputs": [],
   "source": []
  },
  {
   "cell_type": "code",
   "execution_count": null,
   "metadata": {},
   "outputs": [],
   "source": []
  },
  {
   "cell_type": "code",
   "execution_count": 21,
   "metadata": {},
   "outputs": [
    {
     "ename": "ModuleNotFoundError",
     "evalue": "No module named 'matplotlib'",
     "output_type": "error",
     "traceback": [
      "\u001b[31m---------------------------------------------------------------------------\u001b[39m",
      "\u001b[31mModuleNotFoundError\u001b[39m                       Traceback (most recent call last)",
      "\u001b[36mCell\u001b[39m\u001b[36m \u001b[39m\u001b[32mIn[21]\u001b[39m\u001b[32m, line 2\u001b[39m\n\u001b[32m      1\u001b[39m \u001b[38;5;66;03m# DBScan Algorithm\u001b[39;00m\n\u001b[32m----> \u001b[39m\u001b[32m2\u001b[39m \u001b[38;5;28;01mimport\u001b[39;00m\u001b[38;5;250m \u001b[39m\u001b[34;01mmatplotlib\u001b[39;00m\u001b[34;01m.\u001b[39;00m\u001b[34;01mpyplot\u001b[39;00m\u001b[38;5;250m \u001b[39m\u001b[38;5;28;01mas\u001b[39;00m\u001b[38;5;250m \u001b[39m\u001b[34;01mplt\u001b[39;00m\n\u001b[32m      3\u001b[39m get_ipython().run_line_magic(\u001b[33m'\u001b[39m\u001b[33mmatplotlib\u001b[39m\u001b[33m'\u001b[39m, \u001b[33m'\u001b[39m\u001b[33minline\u001b[39m\u001b[33m'\u001b[39m)\n\u001b[32m      4\u001b[39m \u001b[38;5;28;01mfrom\u001b[39;00m\u001b[38;5;250m \u001b[39m\u001b[34;01msklearn\u001b[39;00m\u001b[34;01m.\u001b[39;00m\u001b[34;01mdatasets\u001b[39;00m\u001b[38;5;250m \u001b[39m\u001b[38;5;28;01mimport\u001b[39;00m make_circles\n",
      "\u001b[31mModuleNotFoundError\u001b[39m: No module named 'matplotlib'"
     ]
    }
   ],
   "source": [
    "# DBScan Algorithm\n",
    "import matplotlib.pyplot as plt\n",
    "%matplotlib inline\n",
    "from sklearn.datasets import make_circles\n",
    "from sklearn.cluster import DBSCAN\n",
    "import numpy as np\n",
    "\n",
    "x,_ =  make_circles(n_samples=500,factor=0.5,noice = 0.03)\n",
    "dbscan = DBSCAN(eps=0.1, min_samples=5)\n",
    "cluster = dbscan.fit_predict(x)\n",
    "plt.scatter(x[:,0],x[:,1],c=cluster,cmap='viridis',marker = 'o')\n",
    "plt.show()"
   ]
  },
  {
   "cell_type": "code",
   "execution_count": 22,
   "metadata": {},
   "outputs": [
    {
     "name": "stdout",
     "output_type": "stream",
     "text": [
      "Defaulting to user installation because normal site-packages is not writeable\n",
      "Collecting matplotlib\n",
      "  Downloading matplotlib-3.10.1-cp312-cp312-win_amd64.whl.metadata (11 kB)\n",
      "Collecting contourpy>=1.0.1 (from matplotlib)\n",
      "  Downloading contourpy-1.3.1-cp312-cp312-win_amd64.whl.metadata (5.4 kB)\n",
      "Collecting cycler>=0.10 (from matplotlib)\n",
      "  Downloading cycler-0.12.1-py3-none-any.whl.metadata (3.8 kB)\n",
      "Collecting fonttools>=4.22.0 (from matplotlib)\n",
      "  Downloading fonttools-4.56.0-cp312-cp312-win_amd64.whl.metadata (103 kB)\n",
      "Collecting kiwisolver>=1.3.1 (from matplotlib)\n",
      "  Downloading kiwisolver-1.4.8-cp312-cp312-win_amd64.whl.metadata (6.3 kB)\n",
      "Requirement already satisfied: numpy>=1.23 in c:\\users\\user\\appdata\\local\\packages\\pythonsoftwarefoundation.python.3.12_qbz5n2kfra8p0\\localcache\\local-packages\\python312\\site-packages (from matplotlib) (1.26.3)\n",
      "Requirement already satisfied: packaging>=20.0 in c:\\users\\user\\appdata\\local\\packages\\pythonsoftwarefoundation.python.3.12_qbz5n2kfra8p0\\localcache\\local-packages\\python312\\site-packages (from matplotlib) (24.2)\n",
      "Collecting pillow>=8 (from matplotlib)\n",
      "  Using cached pillow-11.1.0-cp312-cp312-win_amd64.whl.metadata (9.3 kB)\n",
      "Requirement already satisfied: pyparsing>=2.3.1 in c:\\users\\user\\appdata\\local\\packages\\pythonsoftwarefoundation.python.3.12_qbz5n2kfra8p0\\localcache\\local-packages\\python312\\site-packages (from matplotlib) (3.2.1)\n",
      "Requirement already satisfied: python-dateutil>=2.7 in c:\\users\\user\\appdata\\local\\packages\\pythonsoftwarefoundation.python.3.12_qbz5n2kfra8p0\\localcache\\local-packages\\python312\\site-packages (from matplotlib) (2.8.2)\n",
      "Requirement already satisfied: six>=1.5 in c:\\users\\user\\appdata\\local\\packages\\pythonsoftwarefoundation.python.3.12_qbz5n2kfra8p0\\localcache\\local-packages\\python312\\site-packages (from python-dateutil>=2.7->matplotlib) (1.16.0)\n",
      "Downloading matplotlib-3.10.1-cp312-cp312-win_amd64.whl (8.1 MB)\n",
      "   ---------------------------------------- 0.0/8.1 MB ? eta -:--:--\n",
      "   ---------------------------------------- 0.0/8.1 MB ? eta -:--:--\n",
      "   - -------------------------------------- 0.3/8.1 MB ? eta -:--:--\n",
      "   - -------------------------------------- 0.3/8.1 MB ? eta -:--:--\n",
      "   - -------------------------------------- 0.3/8.1 MB ? eta -:--:--\n",
      "   - -------------------------------------- 0.3/8.1 MB ? eta -:--:--\n",
      "   - -------------------------------------- 0.3/8.1 MB ? eta -:--:--\n",
      "   - -------------------------------------- 0.3/8.1 MB ? eta -:--:--\n",
      "   - -------------------------------------- 0.3/8.1 MB ? eta -:--:--\n",
      "   -- ------------------------------------- 0.5/8.1 MB 182.4 kB/s eta 0:00:42\n",
      "   -- ------------------------------------- 0.5/8.1 MB 182.4 kB/s eta 0:00:42\n",
      "   --- ------------------------------------ 0.8/8.1 MB 268.5 kB/s eta 0:00:28\n",
      "   --- ------------------------------------ 0.8/8.1 MB 268.5 kB/s eta 0:00:28\n",
      "   --- ------------------------------------ 0.8/8.1 MB 268.5 kB/s eta 0:00:28\n",
      "   --- ------------------------------------ 0.8/8.1 MB 268.5 kB/s eta 0:00:28\n",
      "   --- ------------------------------------ 0.8/8.1 MB 268.5 kB/s eta 0:00:28\n",
      "   ----- ---------------------------------- 1.0/8.1 MB 270.6 kB/s eta 0:00:26\n",
      "   ----- ---------------------------------- 1.0/8.1 MB 270.6 kB/s eta 0:00:26\n",
      "   ----- ---------------------------------- 1.0/8.1 MB 270.6 kB/s eta 0:00:26\n",
      "   ----- ---------------------------------- 1.0/8.1 MB 270.6 kB/s eta 0:00:26\n",
      "   ------ --------------------------------- 1.3/8.1 MB 279.6 kB/s eta 0:00:25\n",
      "   ------ --------------------------------- 1.3/8.1 MB 279.6 kB/s eta 0:00:25\n",
      "   ------ --------------------------------- 1.3/8.1 MB 279.6 kB/s eta 0:00:25\n",
      "   ------- -------------------------------- 1.6/8.1 MB 294.3 kB/s eta 0:00:23\n",
      "   ------- -------------------------------- 1.6/8.1 MB 294.3 kB/s eta 0:00:23\n",
      "   ------- -------------------------------- 1.6/8.1 MB 294.3 kB/s eta 0:00:23\n",
      "   ------- -------------------------------- 1.6/8.1 MB 294.3 kB/s eta 0:00:23\n",
      "   --------- ------------------------------ 1.8/8.1 MB 298.7 kB/s eta 0:00:21\n",
      "   --------- ------------------------------ 1.8/8.1 MB 298.7 kB/s eta 0:00:21\n",
      "   --------- ------------------------------ 1.8/8.1 MB 298.7 kB/s eta 0:00:21\n",
      "   --------- ------------------------------ 1.8/8.1 MB 298.7 kB/s eta 0:00:21\n",
      "   --------- ------------------------------ 1.8/8.1 MB 298.7 kB/s eta 0:00:21\n",
      "   ---------- ----------------------------- 2.1/8.1 MB 285.1 kB/s eta 0:00:21\n",
      "   ---------- ----------------------------- 2.1/8.1 MB 285.1 kB/s eta 0:00:21\n",
      "   ---------- ----------------------------- 2.1/8.1 MB 285.1 kB/s eta 0:00:21\n",
      "   ---------- ----------------------------- 2.1/8.1 MB 285.1 kB/s eta 0:00:21\n",
      "   ---------- ----------------------------- 2.1/8.1 MB 285.1 kB/s eta 0:00:21\n",
      "   ----------- ---------------------------- 2.4/8.1 MB 280.8 kB/s eta 0:00:21\n",
      "   ----------- ---------------------------- 2.4/8.1 MB 280.8 kB/s eta 0:00:21\n",
      "   ----------- ---------------------------- 2.4/8.1 MB 280.8 kB/s eta 0:00:21\n",
      "   ----------- ---------------------------- 2.4/8.1 MB 280.8 kB/s eta 0:00:21\n",
      "   ----------- ---------------------------- 2.4/8.1 MB 280.8 kB/s eta 0:00:21\n",
      "   ------------- -------------------------- 2.6/8.1 MB 277.1 kB/s eta 0:00:20\n",
      "   ------------- -------------------------- 2.6/8.1 MB 277.1 kB/s eta 0:00:20\n",
      "   ------------- -------------------------- 2.6/8.1 MB 277.1 kB/s eta 0:00:20\n",
      "   ------------- -------------------------- 2.6/8.1 MB 277.1 kB/s eta 0:00:20\n",
      "   ------------- -------------------------- 2.6/8.1 MB 277.1 kB/s eta 0:00:20\n",
      "   -------------- ------------------------- 2.9/8.1 MB 275.5 kB/s eta 0:00:19\n",
      "   -------------- ------------------------- 2.9/8.1 MB 275.5 kB/s eta 0:00:19\n",
      "   -------------- ------------------------- 2.9/8.1 MB 275.5 kB/s eta 0:00:19\n",
      "   -------------- ------------------------- 2.9/8.1 MB 275.5 kB/s eta 0:00:19\n",
      "   --------------- ------------------------ 3.1/8.1 MB 278.4 kB/s eta 0:00:18\n",
      "   --------------- ------------------------ 3.1/8.1 MB 278.4 kB/s eta 0:00:18\n",
      "   --------------- ------------------------ 3.1/8.1 MB 278.4 kB/s eta 0:00:18\n",
      "   ---------------- ----------------------- 3.4/8.1 MB 282.8 kB/s eta 0:00:17\n",
      "   ---------------- ----------------------- 3.4/8.1 MB 282.8 kB/s eta 0:00:17\n",
      "   ---------------- ----------------------- 3.4/8.1 MB 282.8 kB/s eta 0:00:17\n",
      "   ------------------ --------------------- 3.7/8.1 MB 290.0 kB/s eta 0:00:16\n",
      "   ------------------ --------------------- 3.7/8.1 MB 290.0 kB/s eta 0:00:16\n",
      "   ------------------ --------------------- 3.7/8.1 MB 290.0 kB/s eta 0:00:16\n",
      "   ------------------ --------------------- 3.7/8.1 MB 290.0 kB/s eta 0:00:16\n",
      "   ------------------- -------------------- 3.9/8.1 MB 292.9 kB/s eta 0:00:15\n",
      "   ------------------- -------------------- 3.9/8.1 MB 292.9 kB/s eta 0:00:15\n",
      "   ------------------- -------------------- 3.9/8.1 MB 292.9 kB/s eta 0:00:15\n",
      "   -------------------- ------------------- 4.2/8.1 MB 300.3 kB/s eta 0:00:13\n",
      "   -------------------- ------------------- 4.2/8.1 MB 300.3 kB/s eta 0:00:13\n",
      "   -------------------- ------------------- 4.2/8.1 MB 300.3 kB/s eta 0:00:13\n",
      "   -------------------- ------------------- 4.2/8.1 MB 300.3 kB/s eta 0:00:13\n",
      "   ---------------------- ----------------- 4.5/8.1 MB 297.6 kB/s eta 0:00:13\n",
      "   ---------------------- ----------------- 4.5/8.1 MB 297.6 kB/s eta 0:00:13\n",
      "   ---------------------- ----------------- 4.5/8.1 MB 297.6 kB/s eta 0:00:13\n",
      "   ----------------------- ---------------- 4.7/8.1 MB 304.7 kB/s eta 0:00:11\n",
      "   ----------------------- ---------------- 4.7/8.1 MB 304.7 kB/s eta 0:00:11\n",
      "   ------------------------ --------------- 5.0/8.1 MB 312.0 kB/s eta 0:00:10\n",
      "   ------------------------ --------------- 5.0/8.1 MB 312.0 kB/s eta 0:00:10\n",
      "   ------------------------ --------------- 5.0/8.1 MB 312.0 kB/s eta 0:00:10\n",
      "   -------------------------- ------------- 5.2/8.1 MB 317.8 kB/s eta 0:00:09\n",
      "   -------------------------- ------------- 5.2/8.1 MB 317.8 kB/s eta 0:00:09\n",
      "   -------------------------- ------------- 5.2/8.1 MB 317.8 kB/s eta 0:00:09\n",
      "   --------------------------- ------------ 5.5/8.1 MB 320.8 kB/s eta 0:00:08\n",
      "   --------------------------- ------------ 5.5/8.1 MB 320.8 kB/s eta 0:00:08\n",
      "   --------------------------- ------------ 5.5/8.1 MB 320.8 kB/s eta 0:00:08\n",
      "   ---------------------------- ----------- 5.8/8.1 MB 324.4 kB/s eta 0:00:08\n",
      "   ---------------------------- ----------- 5.8/8.1 MB 324.4 kB/s eta 0:00:08\n",
      "   ---------------------------- ----------- 5.8/8.1 MB 324.4 kB/s eta 0:00:08\n",
      "   ---------------------------- ----------- 5.8/8.1 MB 324.4 kB/s eta 0:00:08\n",
      "   ----------------------------- ---------- 6.0/8.1 MB 324.1 kB/s eta 0:00:07\n",
      "   ----------------------------- ---------- 6.0/8.1 MB 324.1 kB/s eta 0:00:07\n",
      "   ------------------------------- -------- 6.3/8.1 MB 328.1 kB/s eta 0:00:06\n",
      "   ------------------------------- -------- 6.3/8.1 MB 328.1 kB/s eta 0:00:06\n",
      "   ------------------------------- -------- 6.3/8.1 MB 328.1 kB/s eta 0:00:06\n",
      "   -------------------------------- ------- 6.6/8.1 MB 332.8 kB/s eta 0:00:05\n",
      "   -------------------------------- ------- 6.6/8.1 MB 332.8 kB/s eta 0:00:05\n",
      "   -------------------------------- ------- 6.6/8.1 MB 332.8 kB/s eta 0:00:05\n",
      "   --------------------------------- ------ 6.8/8.1 MB 336.4 kB/s eta 0:00:04\n",
      "   --------------------------------- ------ 6.8/8.1 MB 336.4 kB/s eta 0:00:04\n",
      "   ----------------------------------- ---- 7.1/8.1 MB 341.9 kB/s eta 0:00:03\n",
      "   ----------------------------------- ---- 7.1/8.1 MB 341.9 kB/s eta 0:00:03\n",
      "   ------------------------------------ --- 7.3/8.1 MB 345.5 kB/s eta 0:00:03\n",
      "   ------------------------------------ --- 7.3/8.1 MB 345.5 kB/s eta 0:00:03\n",
      "   ------------------------------------- -- 7.6/8.1 MB 351.4 kB/s eta 0:00:02\n",
      "   ------------------------------------- -- 7.6/8.1 MB 351.4 kB/s eta 0:00:02\n",
      "   ------------------------------------- -- 7.6/8.1 MB 351.4 kB/s eta 0:00:02\n",
      "   ------------------------------------- -- 7.6/8.1 MB 351.4 kB/s eta 0:00:02\n",
      "   ---------------------------------------  7.9/8.1 MB 349.0 kB/s eta 0:00:01\n",
      "   ---------------------------------------  7.9/8.1 MB 349.0 kB/s eta 0:00:01\n",
      "   ---------------------------------------  7.9/8.1 MB 349.0 kB/s eta 0:00:01\n",
      "   ---------------------------------------- 8.1/8.1 MB 348.2 kB/s eta 0:00:00\n",
      "Downloading contourpy-1.3.1-cp312-cp312-win_amd64.whl (220 kB)\n",
      "Downloading cycler-0.12.1-py3-none-any.whl (8.3 kB)\n",
      "Downloading fonttools-4.56.0-cp312-cp312-win_amd64.whl (2.2 MB)\n",
      "   ---------------------------------------- 0.0/2.2 MB ? eta -:--:--\n",
      "   ---------------------------------------- 0.0/2.2 MB ? eta -:--:--\n",
      "   ---------------------------------------- 0.0/2.2 MB ? eta -:--:--\n",
      "   ---- ----------------------------------- 0.3/2.2 MB ? eta -:--:--\n",
      "   --------- ------------------------------ 0.5/2.2 MB 728.2 kB/s eta 0:00:03\n",
      "   --------- ------------------------------ 0.5/2.2 MB 728.2 kB/s eta 0:00:03\n",
      "   --------- ------------------------------ 0.5/2.2 MB 728.2 kB/s eta 0:00:03\n",
      "   -------------- ------------------------- 0.8/2.2 MB 549.6 kB/s eta 0:00:03\n",
      "   -------------- ------------------------- 0.8/2.2 MB 549.6 kB/s eta 0:00:03\n",
      "   -------------- ------------------------- 0.8/2.2 MB 549.6 kB/s eta 0:00:03\n",
      "   -------------- ------------------------- 0.8/2.2 MB 549.6 kB/s eta 0:00:03\n",
      "   ------------------- -------------------- 1.0/2.2 MB 422.8 kB/s eta 0:00:03\n",
      "   ------------------- -------------------- 1.0/2.2 MB 422.8 kB/s eta 0:00:03\n",
      "   ------------------- -------------------- 1.0/2.2 MB 422.8 kB/s eta 0:00:03\n",
      "   ----------------------- ---------------- 1.3/2.2 MB 435.6 kB/s eta 0:00:03\n",
      "   ----------------------- ---------------- 1.3/2.2 MB 435.6 kB/s eta 0:00:03\n",
      "   ---------------------------- ----------- 1.6/2.2 MB 468.6 kB/s eta 0:00:02\n",
      "   ---------------------------- ----------- 1.6/2.2 MB 468.6 kB/s eta 0:00:02\n",
      "   --------------------------------- ------ 1.8/2.2 MB 481.6 kB/s eta 0:00:01\n",
      "   --------------------------------- ------ 1.8/2.2 MB 481.6 kB/s eta 0:00:01\n",
      "   --------------------------------- ------ 1.8/2.2 MB 481.6 kB/s eta 0:00:01\n",
      "   -------------------------------------- - 2.1/2.2 MB 462.3 kB/s eta 0:00:01\n",
      "   -------------------------------------- - 2.1/2.2 MB 462.3 kB/s eta 0:00:01\n",
      "   ---------------------------------------- 2.2/2.2 MB 443.7 kB/s eta 0:00:00\n",
      "Downloading kiwisolver-1.4.8-cp312-cp312-win_amd64.whl (71 kB)\n",
      "Using cached pillow-11.1.0-cp312-cp312-win_amd64.whl (2.6 MB)\n",
      "Installing collected packages: pillow, kiwisolver, fonttools, cycler, contourpy, matplotlib\n",
      "Successfully installed contourpy-1.3.1 cycler-0.12.1 fonttools-4.56.0 kiwisolver-1.4.8 matplotlib-3.10.1 pillow-11.1.0\n",
      "Defaulting to user installation because normal site-packages is not writeable\n",
      "Collecting scikit-learn\n",
      "  Using cached scikit_learn-1.6.1-cp312-cp312-win_amd64.whl.metadata (15 kB)\n",
      "Requirement already satisfied: numpy>=1.19.5 in c:\\users\\user\\appdata\\local\\packages\\pythonsoftwarefoundation.python.3.12_qbz5n2kfra8p0\\localcache\\local-packages\\python312\\site-packages (from scikit-learn) (1.26.3)\n",
      "Collecting scipy>=1.6.0 (from scikit-learn)\n",
      "  Using cached scipy-1.15.2-cp312-cp312-win_amd64.whl.metadata (60 kB)\n",
      "Collecting joblib>=1.2.0 (from scikit-learn)\n",
      "  Using cached joblib-1.4.2-py3-none-any.whl.metadata (5.4 kB)\n",
      "Collecting threadpoolctl>=3.1.0 (from scikit-learn)\n",
      "  Using cached threadpoolctl-3.6.0-py3-none-any.whl.metadata (13 kB)\n",
      "Using cached scikit_learn-1.6.1-cp312-cp312-win_amd64.whl (11.1 MB)\n",
      "Using cached joblib-1.4.2-py3-none-any.whl (301 kB)\n",
      "Using cached scipy-1.15.2-cp312-cp312-win_amd64.whl (40.9 MB)\n",
      "Using cached threadpoolctl-3.6.0-py3-none-any.whl (18 kB)\n",
      "Installing collected packages: threadpoolctl, scipy, joblib, scikit-learn\n",
      "Successfully installed joblib-1.4.2 scikit-learn-1.6.1 scipy-1.15.2 threadpoolctl-3.6.0\n"
     ]
    }
   ],
   "source": [
    "! pip install matplotlib\n",
    "! pip install scikit-learn"
   ]
  },
  {
   "cell_type": "code",
   "execution_count": 11,
   "metadata": {},
   "outputs": [
    {
     "name": "stdout",
     "output_type": "stream",
     "text": [
      " the max value is (' ', 23)\n"
     ]
    }
   ],
   "source": [
    "l = \"\"\"Jonathan Coe's novl, 'The Rottrs' Club', contains a sentence of 13,955 words. This is generally considered to be the longest sentence in English literature\"\"\"\n",
    "dic = {}\n",
    "for i in l:\n",
    "  if i not in dic:\n",
    "    dic[i]=1\n",
    "  else:\n",
    "    dic[i]+=1\n",
    "m = max(dic.values())\n",
    "# print(dic)\n",
    "for i,j in dic.items():\n",
    "    if j==m:\n",
    "        print(f\" the max value is {i,j}\")"
   ]
  },
  {
   "cell_type": "code",
   "execution_count": 12,
   "metadata": {},
   "outputs": [
    {
     "data": {
      "text/plain": [
       "{'i', 'm', 'p', 's'}"
      ]
     },
     "execution_count": 12,
     "metadata": {},
     "output_type": "execute_result"
    }
   ],
   "source": [
    "l='mississippi'\n",
    "set(l)"
   ]
  },
  {
   "cell_type": "code",
   "execution_count": 20,
   "metadata": {},
   "outputs": [
    {
     "data": {
      "text/plain": [
       "{1, 2, 3, 4, 5}"
      ]
     },
     "execution_count": 20,
     "metadata": {},
     "output_type": "execute_result"
    }
   ],
   "source": [
    "A={1,2,3}\n",
    "B={1,2,4,5}\n",
    "A | B"
   ]
  },
  {
   "cell_type": "code",
   "execution_count": 21,
   "metadata": {},
   "outputs": [],
   "source": [
    "li = [3,2,4,6,5]\n",
    "x = set()\n",
    "for i in li:\n",
    "    x.add(i)"
   ]
  },
  {
   "cell_type": "code",
   "execution_count": 22,
   "metadata": {},
   "outputs": [
    {
     "data": {
      "text/plain": [
       "{2, 3, 4, 5, 6}"
      ]
     },
     "execution_count": 22,
     "metadata": {},
     "output_type": "execute_result"
    }
   ],
   "source": [
    "x"
   ]
  },
  {
   "cell_type": "code",
   "execution_count": 23,
   "metadata": {},
   "outputs": [
    {
     "name": "stdout",
     "output_type": "stream",
     "text": [
      "{1, 2, 3, 4, 5, 6}\n"
     ]
    }
   ],
   "source": [
    "lst = [1, 2, 3, 4, 2, 5, 3, 6]\n",
    "\n",
    "# First, maintain order in a list\n",
    "unique_ordered_list = list(dict.fromkeys(lst))\n",
    "\n",
    "# Convert to a set\n",
    "unique_ordered_set = set(unique_ordered_list)\n",
    "\n",
    "print(unique_ordered_set)"
   ]
  },
  {
   "cell_type": "code",
   "execution_count": 27,
   "metadata": {},
   "outputs": [
    {
     "name": "stdout",
     "output_type": "stream",
     "text": [
      "m\n",
      "am\n",
      "dam\n",
      "adam\n",
      "madam\n",
      "mmadam\n"
     ]
    },
    {
     "data": {
      "text/plain": [
       "False"
      ]
     },
     "execution_count": 27,
     "metadata": {},
     "output_type": "execute_result"
    }
   ],
   "source": [
    "def is_palindrome(s):\n",
    "    reversed_str = \"\"\n",
    "    for char in s:\n",
    "        reversed_str = char + reversed_str\n",
    "        print(reversed_str)  # Constructing reverse manually\n",
    "\n",
    "    return s == reversed_str\n",
    "\n",
    "# Example Usage\n",
    "word3 = \"madamm\"\n",
    "is_palindrome(word3)"
   ]
  },
  {
   "cell_type": "code",
   "execution_count": 28,
   "metadata": {},
   "outputs": [
    {
     "name": "stdout",
     "output_type": "stream",
     "text": [
      "{'h': 1, 'e': 1, 'l': 2, 'o': 1}\n"
     ]
    }
   ],
   "source": [
    "l = 'hello'\n",
    "dic = {}\n",
    "\n",
    "for i in l:\n",
    "    if i not in dic:\n",
    "        dic[i]=1\n",
    "    else:\n",
    "        dic[i]+=1\n",
    "\n",
    "print(dic)"
   ]
  },
  {
   "cell_type": "code",
   "execution_count": null,
   "metadata": {},
   "outputs": [],
   "source": []
  }
 ],
 "metadata": {
  "kernelspec": {
   "display_name": "Python 3",
   "language": "python",
   "name": "python3"
  },
  "language_info": {
   "codemirror_mode": {
    "name": "ipython",
    "version": 3
   },
   "file_extension": ".py",
   "mimetype": "text/x-python",
   "name": "python",
   "nbconvert_exporter": "python",
   "pygments_lexer": "ipython3",
   "version": "3.12.9"
  }
 },
 "nbformat": 4,
 "nbformat_minor": 2
}
